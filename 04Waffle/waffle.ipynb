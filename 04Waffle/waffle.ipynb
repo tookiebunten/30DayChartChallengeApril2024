{
 "cells": [
  {
   "cell_type": "code",
   "execution_count": 16,
   "metadata": {},
   "outputs": [
    {
     "data": {
      "image/png": "[encoded data removed]",
      "text/plain": [
       "<Waffle size 640x480 with 1 Axes>"
      ]
     },
     "metadata": {},
     "output_type": "display_data"
    }
   ],
   "source": [
    "# importing all necessary requirements\n",
    "import pandas as pd\n",
    "import matplotlib.pyplot as plt\n",
    "from pywaffle import Waffle\n",
    "\n",
    "# load xlsx file into a DataFrame\n",
    "df = pd.read_excel(\"./data/Lochs.xlsx\")\n",
    "\n",
    "# create a new DataFrame with the data we need - count of distinct loch names by local authority\n",
    "df_lochs = df.groupby(\"local_authority\")[\"loch_name\"].unique().reset_index()\n",
    "\n",
    "# add a new column to the DataFrame with the count of distinct loch names\n",
    "df_lochs[\"loch_count\"] = df_lochs[\"loch_name\"].apply(lambda x: len(x))\n",
    "\n",
    "# make the count as a percentage of the total number of lochs\n",
    "df_lochs[\"loch_count\"] = df_lochs[\"loch_count\"] / df_lochs[\"loch_count\"].sum() * 100\n",
    "\n",
    "fig = plt.figure(\n",
    "    FigureClass=Waffle,\n",
    "    rows=5,\n",
    "    values=df_lochs.loch_count,\n",
    "    # labels=list(df_lochs.local_authority),\n",
    ")\n"
   ]
  }
 ],
 "metadata": {
  "kernelspec": {
   "display_name": "Python 3",
   "language": "python",
   "name": "python3"
  },
  "language_info": {
   "codemirror_mode": {
    "name": "ipython",
    "version": 3
   },
   "file_extension": ".py",
   "mimetype": "text/x-python",
   "name": "python",
   "nbconvert_exporter": "python",
   "pygments_lexer": "ipython3",
   "version": "3.10.11"
  }
 },
 "nbformat": 4,
 "nbformat_minor": 2
}
